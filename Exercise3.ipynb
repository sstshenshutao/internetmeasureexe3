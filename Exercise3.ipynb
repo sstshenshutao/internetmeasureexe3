{
 "cells": [
  {
   "cell_type": "markdown",
   "source": [
    "**The report of assignment03**"
   ],
   "metadata": {
    "collapsed": false
   }
  },
  {
   "cell_type": "markdown",
   "source": [
    "**Introduction (!! important !!)**\n",
    "\n",
    "Before running the script, we need to prepare the dataset of the \"top-1m-websites\" and the \"curl\" tool.\n",
    "To download the dataset, we prepared a script -- \"download_bash.sh\".\n",
    "It can download the zip-file and try to extract the compressed csv-file to the path \"./toplist_1m/top-1m.csv\".\n",
    "\n",
    "For compiling the curl with http/3 and http/2, we also provided two scripts in the folder \"./build_curl/h2\" and \"./build_curl/h3\".\n",
    "Please enter into the folders and run these scripts to download and compile the \"curl\".\n",
    "The executive bin-files should have the paths:\n",
    "```\n",
    "curl_program_h3 = \"./build_curl/h3/curl/src/curl\"\n",
    "curl_program_h2 = \"./build_curl/h2/curl/src/curl\"\n",
    "```\n",
    "you can also change the program paths in the \"utils.py\".\n"
   ],
   "metadata": {
    "collapsed": false
   }
  },
  {
   "cell_type": "markdown",
   "metadata": {
    "collapsed": true,
    "pycharm": {
     "name": "#%% md\n"
    }
   },
   "source": [
    "a) Read up on transport layer ossification\n",
    "to briefly answer the following questions: Why is it difficult to develop\n",
    "and deploy/adopt new transport protocols? (2 points)"
   ]
  },
  {
   "cell_type": "markdown",
   "source": [
    "Solution a)\n",
    "\n",
    "The development and support of a new transport protocol highly depends on\n",
    "the behaviors of hosts and middleboxes. A new transport protocol should accommodate the middleboxes and hosts deployed today\n",
    "in the Internet. To develop a new transport protocol with the support of middleboxes,\n",
    "the design should base on UDP or TCP. The UDP solution needs to implement many features, which are already implemented\n",
    "in TCP. It is very hard to design those mechanisms.\n",
    "The extension of TCP causes ossification.\n",
    "The middleboxes are primarily designed for the current TCP and have limited supports to TCP Options.\n",
    "We discuss more about the solution of TCP extension here.\n",
    "\n",
    "The challenges of the middlebox accommodation are mainly from the following aspects:\n",
    "> Modification of Sequence Number: currently, the middleboxes may modify the TCP Sequence Number.\n",
    "The new transport protocol needs to provide a safe usage of the Sequence Number.\n",
    "\n",
    "> Sequence Space Holes: some middleboxes do not allow TCP sequence holes, an end-to-end communication\n",
    "may be only successful with only one direction, not both.\n",
    "\n",
    "> Proxy: the new transport protocol should consider the proxy transport.\n",
    "\n",
    "> Inconsistent Retransmission: currently, the middleboxes perform differently with the retransmission of variation packets on different ports.\n",
    "The new transport protocol should design the inconsistent retransmission with only tiny variation of the packet size.\n",
    "\n",
    "> Re-segmentation: the middleboxes may re-segment the packets, may cause fail validation of MAC.\n",
    "The new transport protocol should provide a mechanism of the intermediate Re-segmentation.\n",
    "\n",
    "The challenges of the host side are mainly from the following aspects:\n",
    "\n",
    "> OS and NIC: OS may be not compatible with the new transport protocol, and the OS may use NIC-offload to improve efficiency,\n",
    "so the compatibility of NIC is also a challenge, because it is a hardware problem.\n",
    "\n",
    "> Performance bottleneck: the new transport protocol may have some encryption features. They should not cause a performance\n",
    "problem on both server and client sides.\n",
    "\n",
    "Thus, it is difficult to develop and deploy/adopt new transport protocols.\n"
   ],
   "metadata": {
    "collapsed": false
   }
  },
  {
   "cell_type": "markdown",
   "source": [
    "b) Read up on QUIC\n",
    "to briefly answer the following questions: How does QUIC overcome the ossification\n",
    "issue? Why does it use UDP? What features and benefits does it provide over TCP? (2 points)\n",
    "\n"
   ],
   "metadata": {
    "collapsed": false
   }
  },
  {
   "cell_type": "markdown",
   "source": [
    "Solution b)\n",
    "\n",
    "QUIC uses UDP to traverse middleboxes, authenticated and encrypted transport to prevent modification and limiting ossification\n",
    "of the protocol by middleboxes.\n",
    "\n",
    "In the question a, we discuss about the TCP ossification from the middleboxes. Directly using UDP\n",
    "can avoid the problems of TCP extension, therefore QUIC packets can transfer over current middleboxes.\n",
    "\n",
    "There are following features and benefits by using QUIC:\n",
    "\n",
    "> Low Handshake Delay: it minimizes the setup RTTs, achieves 1-RTT initial handshake, 0-RTT subsequent successful handshake, and\n",
    "0-RTT subsequent failed handshake.\n",
    "\n",
    "> Stream Multiplexing: it uses multiple streams within a connection to avoid head-of-line blocking of TCP’s sequential delivery.\n",
    "\n",
    "> Authentication and Encryption: the packets are fully authenticated and mostly encrypted (unencrypted public header and encrypted body).\n",
    "\n",
    "> Simpler and more accurate Loss Recovery: new packet numbers for all QUIC packets including retransmission packets to\n",
    "avoid \"retransmission ambiguity\" problem in TCP\n",
    "\n",
    "> Flow Control and Congestion Control: connection-level flow control and stream-level flow control;\n",
    "a variant of mulTCP for Cubic during the congestion avoidance phase of Congestion Control.\n",
    "\n",
    "> NAT Rebinding and Connection Migration: it uses Connection ID to identify connections\n",
    "\n",
    "> Do not affect current HTTPS: it uses \"Alt-Svc\" header in their HTTP responses to infer the QUIC support\n",
    "\n",
    "\n"
   ],
   "metadata": {
    "collapsed": false
   }
  },
  {
   "cell_type": "markdown",
   "source": [
    "c) Download the latest standard Tranco toplist (Top 1M). For this assignment, we will use the Top 10k to\n",
    "determine the adoption of HTTP/3 (and therefore QUIC) on the Web.\n",
    "\n",
    "We recommend to not use Wi-Fi for measurements, as results will exhibit much more variance. For\n",
    "this assignment, we will only look at measurements over IPv4.\n",
    "\n",
    "Prepend www. to the domains and try establishing HTTP/3 connections to the Top 10k Web domains via curl.\n",
    "Note that HTTP/3 support is currently experimental in curl, meaning you will have to explicitly enable it while\n",
    "building curl.\n",
    "\n",
    "When running curl with the --http3 flag, websites that do not support HTTP/3 will fail instead of falling back\n",
    "to HTTP/2 as of the current version (7.73.0). Further, use the -w flag of curl in order to record following\n",
    "metrics for each HTTP/3-enabled website:\n",
    "\n",
    "• time_appconnect\n",
    "\n",
    "• time_connect\n",
    "\n",
    "• time_namelookup\n",
    "\n",
    "• time_pretransfer\n",
    "\n",
    "• time_redirect\n",
    "\n",
    "• time_starttransfer\n",
    "\n",
    "• time_total\n",
    "\n",
    "• remote_ip\n",
    "\n",
    "• remote_port\n",
    "\n",
    "Make sure to convert the timings to reasonable units (e.g., ms or s), if necessary. Briefly explain what each of\n",
    "the above metrics represents. Save your measurement results in a CSV file (with domain name + above metrics\n",
    "as columns). Submit your description, CSV file, and measurement script(s). (2 points)"
   ],
   "metadata": {
    "collapsed": false
   }
  },
  {
   "cell_type": "markdown",
   "source": [
    "Solution c)\n",
    "\n",
    "The measurement was finished by compute engines of google cloud (europe-west3-c) to avoid variance.\n",
    "\n",
    "To speed up the measurement process, we divide the whole task into fragments.\n",
    "Every chunk can be processed in a dedicated machine. The thread number of each machine is limited to 10 to avoid the\n",
    "interaction of multiple 'curl' processes (bandwidth limit).\n",
    "\n",
    "We used the dataset of the averaged rankings list over the past 30 days. To start the curl process locally, we used\n",
    "the python script \"question_c.py\". The task was finished by loop this time. The result was \"./qustion_c_output/output.csv\".\n",
    "\n",
    "```\n",
    "# download the dataset\n",
    "sh download_bash.sh\n",
    "# run python, the output in \"./qustion_c_output/\"\n",
    "python ./question_c.py\n",
    "```\n",
    "\n",
    "The csv-file also contained a column \"status\".\n",
    "Only the measurement with \"ok\" status were successful, because it is meaningless to keep the measurement time of\n",
    "the websites with wrong status, such as \"timeout\" (HTTP/3 unsupported) and \"connection refused\" (DNS error). Another\n",
    "status was \"error\", it means the website transferred something back but it caused error of the 'curl' program.\n",
    "\n",
    "For http2\n",
    "\n",
    "\n",
    "> time_appconnect: the SSL/SSH/etc handshake time, for HTTP/3 mean"
   ],
   "metadata": {
    "collapsed": false
   }
  },
  {
   "cell_type": "markdown",
   "source": [
    "d) How many of the initial ≈10k websites support HTTP/3? Determine the AS numbers (cf. Assignment 01) for\n",
    "the IP addresses that you collected. Count the number of websites for each ASN, sort them in descending order,\n",
    "and export it to a CSV file (columns: asn,num_http3_websites). Which ASNs have the highest number of\n",
    "HTTP/3-enabled websites, i.e., who is responsible for pushing HTTP/3 adoption? Submit your answers, scripts,\n",
    "and CSV file. (2 points)\n"
   ],
   "metadata": {
    "collapsed": false
   }
  },
  {
   "cell_type": "markdown",
   "source": [
    "Solution d)\n",
    "\n",
    "todo:"
   ],
   "metadata": {
    "collapsed": false
   }
  },
  {
   "cell_type": "markdown",
   "source": [
    "e) Order the collected timing metrics by the sequential order of their corresponding events (i.e., DNS lookup\n",
    "happens before y, etc.). Calculate the starting/end times and duration of the events; note that some metrics\n",
    "include other metrics, so you will need to calculate deltas in some cases. Draw boxplots over all measurements\n",
    "for each of the events/metrics (cf. Assignment 02); you can use the description of the events/metrics as labels\n",
    "for your x-axis (e.g., DNS lookup, ...). Submit your answers/descriptions, analysis and plotting scripts, and plot.\n",
    "(3 points)\n"
   ],
   "metadata": {
    "collapsed": false,
    "pycharm": {
     "name": "#%% md\n"
    }
   }
  },
  {
   "cell_type": "markdown",
   "source": [
    "Solution e)\n",
    "\n",
    "todo:"
   ],
   "metadata": {
    "collapsed": false
   }
  },
  {
   "cell_type": "markdown",
   "source": [
    "f) In order to compare the performance of QUIC+HTTP/3, repeat your curl measurements for the Top 1k\n",
    "websites which you have found to support HTTP/3 with TCP+TLS+HTTP/2. If you found less than 1k\n",
    "websites with HTTP/3 support, use this number instead. Extend your scripts from e) so that you show the\n",
    "distributions for HTTP/2 and HTTP/3 next to each other. Which boxes are similar (i.e., unaffected) and which\n",
    "boxes are different (i.e., faster/slower) when comparing HTTP/2 and HTTP/3? Submit your extended script(s),\n",
    "plot, and answers. (2 points)"
   ],
   "metadata": {
    "collapsed": false,
    "pycharm": {
     "name": "#%% md\n"
    }
   }
  },
  {
   "cell_type": "markdown",
   "source": [
    "Solution f)\n",
    "\n",
    "todo:"
   ],
   "metadata": {
    "collapsed": false
   }
  },
  {
   "cell_type": "markdown",
   "source": [
    "g) Calculate the differences in raw timing metrics from curl between TCP+TLS+HTTP/2 and QUIC+HTTP/3\n",
    "for each of the (max.) 1k websites, i.e., ∆value = valuehttp/2 − valuehttp/3. For each metric, draw a boxplot over\n",
    "the deltas. Store the 25th, 50th, and 75th percentiles of each box in a CSV file. What are the interquartile range\n",
    "of the deltas, and what does that mean w.r.t. HTTP/2 and HTTP/3? Submit your analysis/plotting script(s) and\n",
    "discussion. (2 points)"
   ],
   "metadata": {
    "collapsed": false
   }
  },
  {
   "cell_type": "markdown",
   "source": [
    "Solution g)\n",
    "\n",
    "todo:"
   ],
   "metadata": {
    "collapsed": false
   }
  },
  {
   "cell_type": "markdown",
   "source": [
    "h) For the 1k websites with HTTP/3 support, use Selenium with a headless Chrome browser to automate\n",
    "webpage navigation. Make sure that QUIC is enabled and that the used protocol is HTTP/3 for your measurements.\n",
    "With your setup, extract webpage timing statistics about responseStart, domInteractive,\n",
    "and domComplete (see screenshot from Chrome developer tools below; note the nextHopProtocol being\n",
    "h3-Q050, i.e., HTTP/3 with QUIC Q050) through the aforementioned interfaces for all HTTP/3-enabled websites.\n",
    "Repeat the measurements for the websites, but disable QUIC this time to use TCP+TLS+HTTP/2 instead. Save\n",
    "your results in two CSV files (one for HTTP/2, one for HTTP/3), with the domain name + metrics as columns.\n",
    "Submit your script(s) and CSV files. (3 points)"
   ],
   "metadata": {
    "collapsed": false,
    "pycharm": {
     "name": "#%% md\n"
    }
   }
  },
  {
   "cell_type": "markdown",
   "source": [
    "Solution h)\n",
    "\n",
    "todo:"
   ],
   "metadata": {
    "collapsed": false
   }
  },
  {
   "cell_type": "markdown",
   "source": [
    "i) Draw a CDF figure for both HTTP/2 (dashed lines) and HTTP/3 (solid lines) measurements, with separate\n",
    "curves for responseStart, domInteractive, and domComplete. What do the different metrics represent?\n",
    "For some percentiles of your choice, discuss the difference between HTTP/2 and HTTP/3, esp. regarding the\n",
    "impact of HTTP/3 and QUIC for the user. Submit your plotting script, plot, and discussion. (2 points)"
   ],
   "metadata": {
    "collapsed": false
   }
  },
  {
   "cell_type": "markdown",
   "source": [
    "Solution i)\n",
    "\n",
    "todo:"
   ],
   "metadata": {
    "collapsed": false
   }
  },
  {
   "cell_type": "markdown",
   "source": [],
   "metadata": {
    "collapsed": false
   }
  }
 ],
 "metadata": {
  "kernelspec": {
   "display_name": "Python 3",
   "language": "python",
   "name": "python3"
  },
  "language_info": {
   "codemirror_mode": {
    "name": "ipython",
    "version": 2
   },
   "file_extension": ".py",
   "mimetype": "text/x-python",
   "name": "python",
   "nbconvert_exporter": "python",
   "pygments_lexer": "ipython2",
   "version": "2.7.6"
  }
 },
 "nbformat": 4,
 "nbformat_minor": 0
}